{
  "nbformat": 4,
  "nbformat_minor": 0,
  "metadata": {
    "colab": {
      "name": "img-seg-tutorial.ipynb",
      "provenance": [],
      "collapsed_sections": []
    },
    "kernelspec": {
      "name": "python3",
      "display_name": "Python 3"
    },
    "language_info": {
      "name": "python"
    }
  },
  "cells": [
    {
      "cell_type": "markdown",
      "source": [
        "# Microstructure Image Segmentation Tutorial\n",
        "\n",
        "This notebook gives a quick tutorial to perform image segmentation of microstructure images using deep learning. The notebook is designed for running on Google Colab to use GPUs for computing. Click the button below to run the notebook on Colab.\n",
        "\n",
        "[![Open In Colab](https://colab.research.google.com/assets/colab-badge.svg)](https://colab.research.google.com/github/holmgroup/img-segmentation/blob/main/img_seg_tutorial.ipynb)\n"
      ],
      "metadata": {
        "id": "tjGqITKW4tra"
      }
    },
    {
      "cell_type": "code",
      "execution_count": 10,
      "metadata": {
        "colab": {
          "base_uri": "https://localhost:8080/"
        },
        "id": "p_-ryHu6tcFu",
        "outputId": "46ed01d7-6838-4353-9402-2a73ade3e39f"
      },
      "outputs": [
        {
          "output_type": "stream",
          "name": "stdout",
          "text": [
            "Cloning into 'img-segmentation'...\n",
            "remote: Enumerating objects: 67, done.\u001b[K\n",
            "remote: Counting objects: 100% (67/67), done.\u001b[K\n",
            "remote: Compressing objects: 100% (38/38), done.\u001b[K\n",
            "remote: Total 67 (delta 25), reused 64 (delta 25), pack-reused 0\u001b[K\n",
            "Unpacking objects: 100% (67/67), done.\n",
            "/content/img-segmentation/img-segmentation\n"
          ]
        }
      ],
      "source": [
        "# Setup code\n",
        "!git clone https://github.com/holmgroup/img-segmentation.git\n",
        "%cd img-segmentation"
      ]
    },
    {
      "cell_type": "code",
      "source": [
        ""
      ],
      "metadata": {
        "id": "2zC9p2NF7mNR"
      },
      "execution_count": null,
      "outputs": []
    }
  ]
}